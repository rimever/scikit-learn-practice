{
 "cells": [
  {
   "cell_type": "code",
   "execution_count": null,
   "metadata": {},
   "outputs": [],
   "source": [
    "# データセットを読み込み\n",
    "from sklearn.datasets import load_breast_cancer\n",
    "cancer = load_breast_cancer()\n",
    "\n",
    "import pandas as pd\n",
    "cancer_df = pd.DataFrame(cancer.data, columns=cancer.feature_names)\n"
   ]
  },
  {
   "cell_type": "code",
   "execution_count": null,
   "metadata": {},
   "outputs": [],
   "source": [
    "cancer_df['target'] = cancer.target\n"
   ]
  },
  {
   "cell_type": "code",
   "execution_count": null,
   "metadata": {},
   "outputs": [],
   "source": [
    "cancer_df.head()\n"
   ]
  },
  {
   "cell_type": "code",
   "execution_count": null,
   "metadata": {},
   "outputs": [],
   "source": [
    "import matplotlib.pyplot as plt\n",
    "plt.hist(cancer.target)\n"
   ]
  },
  {
   "cell_type": "code",
   "execution_count": null,
   "metadata": {},
   "outputs": [],
   "source": [
    "cancer.target\n"
   ]
  },
  {
   "cell_type": "code",
   "execution_count": null,
   "metadata": {},
   "outputs": [],
   "source": [
    "import seaborn as sns\n",
    "corrmat = cancer_df.corr()\n",
    "f, ax = plt.subplots(figsize=(12, 9))\n",
    "sns.heatmap(corrmat, vmax=.8, square=True);\n"
   ]
  },
  {
   "cell_type": "code",
   "execution_count": null,
   "metadata": {},
   "outputs": [],
   "source": [
    "import numpy as np\n",
    "k = len(cancer_df)-1 #number of variables for heatmap\n",
    "goal_parameter = 'target'\n",
    "cols = corrmat.nlargest(k, goal_parameter)[goal_parameter].index\n",
    "cm = np.corrcoef(cancer_df[cols].values.T)\n",
    "plt.subplots(figsize=(18, 18))\n",
    "sns.set(font_scale=1.25)\n",
    "hm = sns.heatmap(cm, cbar=True, annot=True, square=True, fmt='.2f', annot_kws={'size': 10}, yticklabels=cols.values, xticklabels=cols.values)\n",
    "plt.show()\n"
   ]
  },
  {
   "cell_type": "code",
   "execution_count": null,
   "metadata": {},
   "outputs": [],
   "source": [
    "# Random Forest\n",
    "from sklearn.ensemble import RandomForestClassifier\n",
    "from sklearn.model_selection import train_test_split\n",
    "\n",
    "result = cancer_df.copy()\n",
    "\n",
    "\n",
    "goal_parameter = 'target'\n",
    "#目的変数を削除して、説明変数を作成\n",
    "X = result.drop(goal_parameter, 1)\n",
    "\n",
    "#Yに目的変数を入れます！\n",
    "Y = result[goal_parameter]\n",
    "\n",
    "# 学習用とテスト用でデータを分離\n",
    "X_train, X_test, y_train, y_test = train_test_split(X, Y, test_size = 0.1,random_state=5)\n",
    "\n",
    "\n",
    "\n",
    "# Random Forest\n",
    "from sklearn.ensemble import RandomForestClassifier\n",
    "random_forest = RandomForestClassifier(n_estimators=100)\n",
    "random_forest.fit(X_train, y_train)\n",
    "accuracy_random_forest = random_forest.score(X_test, y_test)\n",
    "print(\"ランダムフォレストの精度:\",accuracy_random_forest * 100,\"%\")\n"
   ]
  },
  {
   "cell_type": "code",
   "execution_count": null,
   "metadata": {},
   "outputs": [],
   "source": [
    "# PCAを試みます\n",
    "from sklearn.preprocessing import StandardScaler\n",
    "from sklearn.decomposition import PCA\n",
    "\n",
    "\n",
    "# 標準化\n",
    "scaler = StandardScaler()\n",
    "X_train_scaled = scaler.fit_transform(X_train)\n",
    "X_test_scaled = scaler.transform(X_test)\n",
    "\n",
    "# 偏っていないため次元圧縮はさほど有効ではない？\n",
    "pca = PCA(n_components=30)\n",
    "pca.fit(X_train_scaled)\n",
    "plt.bar([n for n in range(1, len(pca.explained_variance_ratio_)+1)], pca.explained_variance_ratio_)\n"
   ]
  },
  {
   "cell_type": "code",
   "execution_count": null,
   "metadata": {},
   "outputs": [],
   "source": [
    "from sklearn.model_selection import GridSearchCV\n",
    "from sklearn.metrics import mean_squared_error\n",
    "from sklearn.decomposition import PCA\n",
    "from sklearn.pipeline import Pipeline\n",
    "# LightGBMを試します。\n",
    "import lightgbm as lgb\n",
    "\n",
    "\n",
    "\n",
    "estimator = lgb.LGBMClassifier(learning_rate = 0.2, n_estimators = 100, boosting='gbdt')\n",
    "\n",
    "params = {\n",
    "    'num_leaves': [x for x in range(30, 200, 10)],\n",
    "    'metric': ('l1', 'l2')\n",
    "    }\n",
    "gridsearch = GridSearchCV(estimator, params)\n",
    "pca = PCA(n_components=2)\n",
    "\n",
    "\n",
    "\n",
    "# 変換器・推定器オブジェクト作成\n",
    "standardizer = StandardScaler()\n",
    "\n",
    "pl = Pipeline([\n",
    "    ('standardize', standardizer),\n",
    "    #('pca', pca),\n",
    "    ('clf', gridsearch)\n",
    "    ])\n",
    "\n",
    "\n",
    "\n",
    "pl.fit(X_train, y_train)\n",
    "\n",
    "# テストデータに対して予測\n",
    "y_pred = pl.predict(X_test)\n",
    "\n",
    "y_result = []\n",
    "\n",
    "for value in y_pred:\n",
    "    if value > 0.5:\n",
    "        y_result.append(True)\n",
    "    else:\n",
    "        y_result.append(False)\n",
    "\n",
    "# 精度 (Accuracy) を計算する\n",
    "accuracy = sum(y_test == y_result) / len(y_test)\n",
    "print(\"LightGBMの精度\",accuracy * 100,\"%\")\n"
   ]
  },
  {
   "cell_type": "code",
   "execution_count": null,
   "metadata": {},
   "outputs": [],
   "source": []
  }
 ],
 "metadata": {},
 "nbformat": 4,
 "nbformat_minor": 0
}
